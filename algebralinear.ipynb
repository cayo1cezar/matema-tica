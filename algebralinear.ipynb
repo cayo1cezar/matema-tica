{
  "nbformat": 4,
  "nbformat_minor": 0,
  "metadata": {
    "colab": {
      "name": "algebralinear.ipynb",
      "provenance": [],
      "collapsed_sections": [],
      "authorship_tag": "ABX9TyNTyU41Sn1+ZnvISr+6/Euz",
      "include_colab_link": true
    },
    "kernelspec": {
      "name": "python3",
      "display_name": "Python 3"
    },
    "language_info": {
      "name": "python"
    }
  },
  "cells": [
    {
      "cell_type": "markdown",
      "metadata": {
        "id": "view-in-github",
        "colab_type": "text"
      },
      "source": [
        "<a href=\"https://colab.research.google.com/github/cayo1cezar/matema-tica/blob/main/algebralinear.ipynb\" target=\"_parent\"><img src=\"https://colab.research.google.com/assets/colab-badge.svg\" alt=\"Open In Colab\"/></a>"
      ]
    },
    {
      "cell_type": "code",
      "execution_count": null,
      "metadata": {
        "id": "L1CeE_scbQwD"
      },
      "outputs": [],
      "source": [
        "import numpy as np"
      ]
    },
    {
      "cell_type": "code",
      "source": [
        "matriz = np.array([[1,0,0,1],\n",
        "                   [2,2,2,5],\n",
        "                  [-3,2,0,0],\n",
        "                   [1,0,-1,4]])\n",
        "\n",
        "matriz_2 = np.array([[1,0,3,1],\n",
        "                     [2,2,2,5],\n",
        "                     [-1,3,0,0],\n",
        "                     [9,0,-1,4]])"
      ],
      "metadata": {
        "id": "oW8K-k7oeBBS"
      },
      "execution_count": null,
      "outputs": []
    },
    {
      "cell_type": "code",
      "source": [
        "matriz"
      ],
      "metadata": {
        "colab": {
          "base_uri": "https://localhost:8080/"
        },
        "id": "VRhfMEgTf_Bm",
        "outputId": "3ee494e4-17c2-4d0c-9162-24f094533a4d"
      },
      "execution_count": null,
      "outputs": [
        {
          "output_type": "execute_result",
          "data": {
            "text/plain": [
              "array([[ 1,  0,  0,  1],\n",
              "       [ 2,  2,  2,  5],\n",
              "       [-3,  2,  0,  0],\n",
              "       [ 1,  0, -1,  4]])"
            ]
          },
          "metadata": {},
          "execution_count": 3
        }
      ]
    },
    {
      "cell_type": "code",
      "source": [
        "print(matriz)"
      ],
      "metadata": {
        "colab": {
          "base_uri": "https://localhost:8080/"
        },
        "id": "Vs9pyEUrgDtt",
        "outputId": "13794b9c-f4d3-440e-9bc1-1412e0a87c15"
      },
      "execution_count": null,
      "outputs": [
        {
          "output_type": "stream",
          "name": "stdout",
          "text": [
            "[[ 1  0  0  1]\n",
            " [ 2  2  2  5]\n",
            " [-3  2  0  0]\n",
            " [ 1  0 -1  4]]\n"
          ]
        }
      ]
    },
    {
      "cell_type": "code",
      "source": [
        "soma = matriz + matriz_2\n",
        "print(soma)"
      ],
      "metadata": {
        "colab": {
          "base_uri": "https://localhost:8080/"
        },
        "id": "i1jomy0ZgG1d",
        "outputId": "7c923863-9fce-4b11-cea3-6765db7f9993"
      },
      "execution_count": null,
      "outputs": [
        {
          "output_type": "stream",
          "name": "stdout",
          "text": [
            "[[ 2  0  3  2]\n",
            " [ 4  4  4 10]\n",
            " [-4  5  0  0]\n",
            " [10  0 -2  8]]\n"
          ]
        }
      ]
    },
    {
      "cell_type": "code",
      "source": [
        "sub = matriz - matriz_2\n",
        "print(sub)"
      ],
      "metadata": {
        "colab": {
          "base_uri": "https://localhost:8080/"
        },
        "id": "iGjRBx-Qg6yE",
        "outputId": "018cfb02-553d-482b-fa67-447caea9f255"
      },
      "execution_count": null,
      "outputs": [
        {
          "output_type": "stream",
          "name": "stdout",
          "text": [
            "[[ 0  0 -3  0]\n",
            " [ 0  0  0  0]\n",
            " [-2 -1  0  0]\n",
            " [-8  0  0  0]]\n"
          ]
        }
      ]
    },
    {
      "cell_type": "code",
      "source": [
        "mult_escalar = matriz *3\n",
        "print(mult_escalar)"
      ],
      "metadata": {
        "colab": {
          "base_uri": "https://localhost:8080/"
        },
        "id": "p6rDZUhEhQBz",
        "outputId": "71ffeeb3-2dfe-4c07-9237-a0590f3b63f7"
      },
      "execution_count": null,
      "outputs": [
        {
          "output_type": "stream",
          "name": "stdout",
          "text": [
            "[[ 3  0  0  3]\n",
            " [ 6  6  6 15]\n",
            " [-9  6  0  0]\n",
            " [ 3  0 -3 12]]\n"
          ]
        }
      ]
    },
    {
      "cell_type": "code",
      "source": [
        "div = matriz/2\n",
        "print(div)"
      ],
      "metadata": {
        "colab": {
          "base_uri": "https://localhost:8080/"
        },
        "id": "XWZ6tVfyhXBL",
        "outputId": "e44fddec-47f8-438d-bfe3-2d2b249e2ca8"
      },
      "execution_count": null,
      "outputs": [
        {
          "output_type": "stream",
          "name": "stdout",
          "text": [
            "[[ 0.5  0.   0.   0.5]\n",
            " [ 1.   1.   1.   2.5]\n",
            " [-1.5  1.   0.   0. ]\n",
            " [ 0.5  0.  -0.5  2. ]]\n"
          ]
        }
      ]
    },
    {
      "cell_type": "code",
      "source": [
        "#Múltiplicação de matrizes \n",
        "\n",
        "m = np.dot(matriz, matriz_2 )\n",
        "\n",
        "print(m)"
      ],
      "metadata": {
        "colab": {
          "base_uri": "https://localhost:8080/"
        },
        "id": "J49vQC00iX4B",
        "outputId": "22675827-9609-4b43-b695-029da0f92a61"
      },
      "execution_count": null,
      "outputs": [
        {
          "output_type": "stream",
          "name": "stdout",
          "text": [
            "[[10  0  2  5]\n",
            " [49 10  5 32]\n",
            " [ 1  4 -5  7]\n",
            " [38 -3 -1 17]]\n"
          ]
        }
      ]
    },
    {
      "cell_type": "code",
      "source": [
        "\n",
        "a = np.array([[0,1], [3,0]])\n",
        "print(a)"
      ],
      "metadata": {
        "colab": {
          "base_uri": "https://localhost:8080/"
        },
        "id": "9Y9k52OojqR2",
        "outputId": "fff9a4fc-e773-482e-cc06-c2db6a7ea08c"
      },
      "execution_count": null,
      "outputs": [
        {
          "output_type": "stream",
          "name": "stdout",
          "text": [
            "[[0 1]\n",
            " [3 0]]\n"
          ]
        }
      ]
    },
    {
      "cell_type": "code",
      "source": [
        "# Matriz Transposta: Matriz que as linhas viram colunas, e as colunas viram linhas.\n",
        "# Operador T\n",
        "t = a.transpose()\n",
        "\n",
        "r = a.T\n",
        "\n",
        "print(r)\n",
        "print('\\n')\n",
        "print(t)"
      ],
      "metadata": {
        "colab": {
          "base_uri": "https://localhost:8080/"
        },
        "id": "CzoxUsqwlo1a",
        "outputId": "553f1a62-587c-4e99-d815-316e0ec53ce0"
      },
      "execution_count": null,
      "outputs": [
        {
          "output_type": "stream",
          "name": "stdout",
          "text": [
            "[[0 3]\n",
            " [1 0]]\n",
            "\n",
            "\n",
            "[[0 3]\n",
            " [1 0]]\n"
          ]
        }
      ]
    },
    {
      "cell_type": "code",
      "source": [
        "# Matriz identidade ---> Matrizes Quadradas ( o n de linhas = n de colunas)\n",
        "# A diagonal principal é 1 para todos os elementos, e o restante é igual a 0.\n",
        "\n",
        "id = np.eye(3)\n",
        "\n",
        "print(id)"
      ],
      "metadata": {
        "colab": {
          "base_uri": "https://localhost:8080/"
        },
        "id": "-V8UUB1Xm1qo",
        "outputId": "aad55529-0e8c-435e-bf3f-47f0ad06e96e"
      },
      "execution_count": null,
      "outputs": [
        {
          "output_type": "stream",
          "name": "stdout",
          "text": [
            "[[1. 0. 0.]\n",
            " [0. 1. 0.]\n",
            " [0. 0. 1.]]\n"
          ]
        }
      ]
    },
    {
      "cell_type": "code",
      "source": [
        "# Matriz Inversa "
      ],
      "metadata": {
        "id": "VCilJf4soqbc"
      },
      "execution_count": null,
      "outputs": []
    },
    {
      "cell_type": "markdown",
      "source": [
        "$$ A . A^{-1} = I $$"
      ],
      "metadata": {
        "id": "iWxoYLpMo6kj"
      }
    },
    {
      "cell_type": "code",
      "source": [
        "b = np.array([[0,1], [3,0]])\n",
        "#i = np.eye(2)\n",
        "\n",
        "# Calculando a inversa\n",
        "b_inv = np.linalg.inv(b)"
      ],
      "metadata": {
        "id": "xnFH21XVp4tq"
      },
      "execution_count": null,
      "outputs": []
    },
    {
      "cell_type": "code",
      "source": [
        "print(b)\n",
        "print()\n",
        "print(b_inv)"
      ],
      "metadata": {
        "colab": {
          "base_uri": "https://localhost:8080/"
        },
        "id": "rkXnfVEuq_R3",
        "outputId": "39055728-4a22-438e-a75d-8db7f6712047"
      },
      "execution_count": null,
      "outputs": [
        {
          "output_type": "stream",
          "name": "stdout",
          "text": [
            "[[0 1]\n",
            " [3 0]]\n",
            "\n",
            "[[0.         0.33333333]\n",
            " [1.         0.        ]]\n"
          ]
        }
      ]
    },
    {
      "cell_type": "code",
      "source": [
        " a = np.array([\n",
        "     [1,5,3],\n",
        "     [3,2,1],\n",
        "     [1,1,1]\n",
        " ])\n",
        "\n",
        " y = np.array([\n",
        "     [1],\n",
        "     [0],\n",
        "     [1]\n",
        "\n",
        " ])\n",
        " print(a)\n",
        " print()\n",
        " print(y)"
      ],
      "metadata": {
        "id": "d9EfmuSxrHy3",
        "colab": {
          "base_uri": "https://localhost:8080/"
        },
        "outputId": "a62f051c-f5a4-4919-c3cb-a79ad7835ab4"
      },
      "execution_count": null,
      "outputs": [
        {
          "output_type": "stream",
          "name": "stdout",
          "text": [
            "[[1 5 3]\n",
            " [3 2 1]\n",
            " [1 1 1]]\n",
            "\n",
            "[[1]\n",
            " [0]\n",
            " [1]]\n"
          ]
        }
      ]
    },
    {
      "cell_type": "code",
      "source": [
        "# resolvendo uma equação matricial de uma forma alternativa\n",
        "\n",
        "x = np.linalg.solve(a,y)\n",
        "\n",
        "print(x)"
      ],
      "metadata": {
        "colab": {
          "base_uri": "https://localhost:8080/"
        },
        "id": "oAyHlUfNWOCC",
        "outputId": "5c3d9fb5-89a7-404e-b722-1f6eae77e977"
      },
      "execution_count": null,
      "outputs": [
        {
          "output_type": "stream",
          "name": "stdout",
          "text": [
            "[[ 0.]\n",
            " [-1.]\n",
            " [ 2.]]\n"
          ]
        }
      ]
    },
    {
      "cell_type": "code",
      "source": [
        "#Determinantes\n",
        "\n",
        "m = np.array([\n",
        "    [1,0,1],\n",
        "    [2,2,2],\n",
        "    [-1,4,-2]\n",
        "])\n",
        "print(m)"
      ],
      "metadata": {
        "colab": {
          "base_uri": "https://localhost:8080/"
        },
        "id": "DwGC70IMXiFI",
        "outputId": "2b68ea26-6ebc-44da-cf23-b1ca9848be5a"
      },
      "execution_count": null,
      "outputs": [
        {
          "output_type": "stream",
          "name": "stdout",
          "text": [
            "[[ 1  0  1]\n",
            " [ 2  2  2]\n",
            " [-1  4 -2]]\n"
          ]
        }
      ]
    },
    {
      "cell_type": "code",
      "source": [
        "det = np.linalg.det(m)\n",
        "print(det)"
      ],
      "metadata": {
        "id": "0DxL8K_QX0Yx",
        "colab": {
          "base_uri": "https://localhost:8080/"
        },
        "outputId": "38cc952f-fa19-4fac-ef89-8dfccefec056"
      },
      "execution_count": null,
      "outputs": [
        {
          "output_type": "stream",
          "name": "stdout",
          "text": [
            "-1.9999999999999993\n"
          ]
        }
      ]
    },
    {
      "cell_type": "code",
      "source": [
        "print(round(det))"
      ],
      "metadata": {
        "colab": {
          "base_uri": "https://localhost:8080/"
        },
        "id": "G2k6nheGh4EZ",
        "outputId": "71f0ca87-7def-464c-8180-f57cbbf0918b"
      },
      "execution_count": null,
      "outputs": [
        {
          "output_type": "stream",
          "name": "stdout",
          "text": [
            "-2\n"
          ]
        }
      ]
    },
    {
      "cell_type": "code",
      "source": [
        "matriz = np.array([\n",
        "    [2,1],\n",
        "    [-1,0]\n",
        "])\n",
        "\n",
        "autovalores, autovetores = np.linalg.eig(matriz)\n",
        "print(autovalores)\n",
        "print()\n",
        "print(autovetores)"
      ],
      "metadata": {
        "colab": {
          "base_uri": "https://localhost:8080/"
        },
        "id": "irY3kD5E9MOi",
        "outputId": "f9e5e61c-d3c7-4a03-c631-e12a55f3063b"
      },
      "execution_count": null,
      "outputs": [
        {
          "output_type": "stream",
          "name": "stdout",
          "text": [
            "[1. 1.]\n",
            "\n",
            "[[ 0.70710678 -0.70710678]\n",
            " [-0.70710678  0.70710678]]\n"
          ]
        }
      ]
    },
    {
      "cell_type": "code",
      "source": [
        "matriz_Diagonal = np.diag(autovalores)\n",
        "print(matriz_Diagonal) "
      ],
      "metadata": {
        "colab": {
          "base_uri": "https://localhost:8080/"
        },
        "id": "nRpGmN1d_0Ol",
        "outputId": "12ebad59-65f9-430d-bae1-0aaad64804bd"
      },
      "execution_count": null,
      "outputs": [
        {
          "output_type": "stream",
          "name": "stdout",
          "text": [
            "[[1. 0.]\n",
            " [0. 1.]]\n"
          ]
        }
      ]
    },
    {
      "cell_type": "code",
      "source": [
        ""
      ],
      "metadata": {
        "id": "hUzJ4O51r4zO"
      },
      "execution_count": null,
      "outputs": []
    }
  ]
}